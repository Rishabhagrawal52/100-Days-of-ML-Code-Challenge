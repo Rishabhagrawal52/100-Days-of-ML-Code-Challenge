{
 "cells": [
  {
   "cell_type": "code",
   "execution_count": 1,
   "metadata": {},
   "outputs": [],
   "source": [
    "#installed and importing the packages"
   ]
  },
  {
   "cell_type": "code",
   "execution_count": 2,
   "metadata": {},
   "outputs": [],
   "source": [
    "import pandas as pd\n",
    "import numpy as np\n",
    "import matplotlib.pyplot as plt"
   ]
  },
  {
   "cell_type": "code",
   "execution_count": 3,
   "metadata": {},
   "outputs": [],
   "source": [
    "#Data Preprocessing"
   ]
  },
  {
   "cell_type": "code",
   "execution_count": 4,
   "metadata": {},
   "outputs": [],
   "source": [
    "dataset = pd.read_csv('Churn_Modelling.csv')\n",
    "X = dataset.iloc[:, 3:13].values\n",
    "y = dataset.iloc[:, 13].values"
   ]
  },
  {
   "cell_type": "code",
   "execution_count": 5,
   "metadata": {},
   "outputs": [],
   "source": [
    "#encoding categories"
   ]
  },
  {
   "cell_type": "code",
   "execution_count": 6,
   "metadata": {},
   "outputs": [],
   "source": [
    "from sklearn.preprocessing import LabelEncoder, OneHotEncoder\n",
    "labelencoder_X_1 = LabelEncoder()\n",
    "X[:, 1] = labelencoder_X_1.fit_transform(X[:, 1])\n",
    "labelencoder_X_2 = LabelEncoder()\n",
    "X[:, 2] = labelencoder_X_2.fit_transform(X[:, 2])\n",
    "onehotencoder = OneHotEncoder(categorical_features = [1])\n",
    "X = onehotencoder.fit_transform(X).toarray()\n",
    "X = X[:, 1:]"
   ]
  },
  {
   "cell_type": "code",
   "execution_count": 7,
   "metadata": {},
   "outputs": [],
   "source": [
    "#train Test splitting"
   ]
  },
  {
   "cell_type": "code",
   "execution_count": 8,
   "metadata": {},
   "outputs": [],
   "source": [
    "from sklearn.model_selection import train_test_split\n",
    "X_train, X_test, y_train, y_test = train_test_split(X, y, test_size = 0.2, random_state = 0)"
   ]
  },
  {
   "cell_type": "code",
   "execution_count": 9,
   "metadata": {},
   "outputs": [],
   "source": [
    "#feature scaling"
   ]
  },
  {
   "cell_type": "code",
   "execution_count": 10,
   "metadata": {},
   "outputs": [],
   "source": [
    "from sklearn.preprocessing import StandardScaler\n",
    "sc = StandardScaler()\n",
    "X_train = sc.fit_transform(X_train)\n",
    "X_test = sc.transform(X_test)"
   ]
  },
  {
   "cell_type": "code",
   "execution_count": 11,
   "metadata": {},
   "outputs": [],
   "source": [
    "#importing more libraries"
   ]
  },
  {
   "cell_type": "code",
   "execution_count": 12,
   "metadata": {},
   "outputs": [
    {
     "name": "stderr",
     "output_type": "stream",
     "text": [
      "C:\\ProgramData\\Anaconda3\\lib\\site-packages\\h5py\\__init__.py:36: FutureWarning: Conversion of the second argument of issubdtype from `float` to `np.floating` is deprecated. In future, it will be treated as `np.float64 == np.dtype(float).type`.\n",
      "  from ._conv import register_converters as _register_converters\n",
      "Using TensorFlow backend.\n"
     ]
    }
   ],
   "source": [
    "import keras\n",
    "from keras.models import Sequential\n",
    "from keras.layers import Dense"
   ]
  },
  {
   "cell_type": "code",
   "execution_count": 13,
   "metadata": {},
   "outputs": [],
   "source": [
    "#initialising the classifier for neural network"
   ]
  },
  {
   "cell_type": "code",
   "execution_count": 14,
   "metadata": {},
   "outputs": [],
   "source": [
    "classifier = Sequential()"
   ]
  },
  {
   "cell_type": "code",
   "execution_count": 15,
   "metadata": {},
   "outputs": [],
   "source": [
    "#the input layer and the first hidden layer"
   ]
  },
  {
   "cell_type": "code",
   "execution_count": 16,
   "metadata": {},
   "outputs": [
    {
     "name": "stderr",
     "output_type": "stream",
     "text": [
      "C:\\ProgramData\\Anaconda3\\lib\\site-packages\\ipykernel_launcher.py:1: UserWarning: Update your `Dense` call to the Keras 2 API: `Dense(activation=\"relu\", input_dim=11, units=6, kernel_initializer=\"uniform\")`\n",
      "  \"\"\"Entry point for launching an IPython kernel.\n"
     ]
    }
   ],
   "source": [
    "classifier.add(Dense(output_dim = 6, init = 'uniform', activation = 'relu', input_dim = 11))"
   ]
  },
  {
   "cell_type": "code",
   "execution_count": 17,
   "metadata": {},
   "outputs": [
    {
     "name": "stderr",
     "output_type": "stream",
     "text": [
      "C:\\ProgramData\\Anaconda3\\lib\\site-packages\\ipykernel_launcher.py:1: UserWarning: Update your `Dense` call to the Keras 2 API: `Dense(activation=\"relu\", units=6, kernel_initializer=\"uniform\")`\n",
      "  \"\"\"Entry point for launching an IPython kernel.\n"
     ]
    }
   ],
   "source": [
    "classifier.add(Dense(output_dim = 6, init = 'uniform', activation = 'relu'))"
   ]
  },
  {
   "cell_type": "code",
   "execution_count": 18,
   "metadata": {},
   "outputs": [],
   "source": [
    "#output layer"
   ]
  },
  {
   "cell_type": "code",
   "execution_count": 19,
   "metadata": {},
   "outputs": [
    {
     "name": "stderr",
     "output_type": "stream",
     "text": [
      "C:\\ProgramData\\Anaconda3\\lib\\site-packages\\ipykernel_launcher.py:1: UserWarning: Update your `Dense` call to the Keras 2 API: `Dense(activation=\"sigmoid\", units=1, kernel_initializer=\"uniform\")`\n",
      "  \"\"\"Entry point for launching an IPython kernel.\n"
     ]
    }
   ],
   "source": [
    "classifier.add(Dense(output_dim = 1, init = 'uniform', activation = 'sigmoid'))"
   ]
  },
  {
   "cell_type": "code",
   "execution_count": 20,
   "metadata": {},
   "outputs": [],
   "source": [
    "#compiling part"
   ]
  },
  {
   "cell_type": "code",
   "execution_count": 21,
   "metadata": {},
   "outputs": [],
   "source": [
    "classifier.compile(optimizer = 'adam', loss = 'binary_crossentropy', metrics = ['accuracy'])"
   ]
  },
  {
   "cell_type": "code",
   "execution_count": 22,
   "metadata": {},
   "outputs": [],
   "source": [
    "#fitting the classifier to the training set"
   ]
  },
  {
   "cell_type": "code",
   "execution_count": 23,
   "metadata": {},
   "outputs": [
    {
     "name": "stderr",
     "output_type": "stream",
     "text": [
      "C:\\ProgramData\\Anaconda3\\lib\\site-packages\\ipykernel_launcher.py:1: UserWarning: The `nb_epoch` argument in `fit` has been renamed `epochs`.\n",
      "  \"\"\"Entry point for launching an IPython kernel.\n"
     ]
    },
    {
     "name": "stdout",
     "output_type": "stream",
     "text": [
      "Epoch 1/100\n",
      "8000/8000 [==============================] - 1s 186us/step - loss: 0.4756 - acc: 0.7960\n",
      "Epoch 2/100\n",
      "8000/8000 [==============================] - 1s 111us/step - loss: 0.4176 - acc: 0.7960\n",
      "Epoch 3/100\n",
      "8000/8000 [==============================] - 1s 106us/step - loss: 0.4082 - acc: 0.8056\n",
      "Epoch 4/100\n",
      "8000/8000 [==============================] - 1s 104us/step - loss: 0.3984 - acc: 0.8260\n",
      "Epoch 5/100\n",
      "8000/8000 [==============================] - 1s 103us/step - loss: 0.3906 - acc: 0.8287\n",
      "Epoch 6/100\n",
      "8000/8000 [==============================] - 1s 103us/step - loss: 0.3839 - acc: 0.8301\n",
      "Epoch 7/100\n",
      "8000/8000 [==============================] - 1s 103us/step - loss: 0.3785 - acc: 0.8384\n",
      "Epoch 8/100\n",
      "8000/8000 [==============================] - 1s 103us/step - loss: 0.3736 - acc: 0.8430\n",
      "Epoch 9/100\n",
      "8000/8000 [==============================] - 1s 103us/step - loss: 0.3706 - acc: 0.8477\n",
      "Epoch 10/100\n",
      "8000/8000 [==============================] - 1s 103us/step - loss: 0.3668 - acc: 0.8510\n",
      "Epoch 11/100\n",
      "8000/8000 [==============================] - 1s 103us/step - loss: 0.3653 - acc: 0.8534\n",
      "Epoch 12/100\n",
      "8000/8000 [==============================] - 1s 103us/step - loss: 0.3620 - acc: 0.8546\n",
      "Epoch 13/100\n",
      "8000/8000 [==============================] - 1s 103us/step - loss: 0.3601 - acc: 0.8534\n",
      "Epoch 14/100\n",
      "8000/8000 [==============================] - 1s 103us/step - loss: 0.3601 - acc: 0.8514\n",
      "Epoch 15/100\n",
      "8000/8000 [==============================] - 1s 103us/step - loss: 0.3582 - acc: 0.8561\n",
      "Epoch 16/100\n",
      "8000/8000 [==============================] - 1s 104us/step - loss: 0.3578 - acc: 0.8560\n",
      "Epoch 17/100\n",
      "8000/8000 [==============================] - 1s 103us/step - loss: 0.3564 - acc: 0.8527\n",
      "Epoch 18/100\n",
      "8000/8000 [==============================] - 1s 103us/step - loss: 0.3562 - acc: 0.8545\n",
      "Epoch 19/100\n",
      "8000/8000 [==============================] - 1s 102us/step - loss: 0.3551 - acc: 0.8579\n",
      "Epoch 20/100\n",
      "8000/8000 [==============================] - 1s 103us/step - loss: 0.3549 - acc: 0.8566\n",
      "Epoch 21/100\n",
      "8000/8000 [==============================] - 1s 103us/step - loss: 0.3540 - acc: 0.8560\n",
      "Epoch 22/100\n",
      "8000/8000 [==============================] - 1s 103us/step - loss: 0.3533 - acc: 0.8579\n",
      "Epoch 23/100\n",
      "8000/8000 [==============================] - 1s 104us/step - loss: 0.3532 - acc: 0.8551\n",
      "Epoch 24/100\n",
      "8000/8000 [==============================] - 1s 103us/step - loss: 0.3526 - acc: 0.8564\n",
      "Epoch 25/100\n",
      "8000/8000 [==============================] - 1s 103us/step - loss: 0.3522 - acc: 0.8566\n",
      "Epoch 26/100\n",
      "8000/8000 [==============================] - 1s 103us/step - loss: 0.3519 - acc: 0.8592\n",
      "Epoch 27/100\n",
      "8000/8000 [==============================] - 1s 102us/step - loss: 0.3521 - acc: 0.8590\n",
      "Epoch 28/100\n",
      "8000/8000 [==============================] - 1s 102us/step - loss: 0.3509 - acc: 0.8581\n",
      "Epoch 29/100\n",
      "8000/8000 [==============================] - 1s 102us/step - loss: 0.3513 - acc: 0.8580\n",
      "Epoch 30/100\n",
      "8000/8000 [==============================] - 1s 101us/step - loss: 0.3509 - acc: 0.8579\n",
      "Epoch 31/100\n",
      "8000/8000 [==============================] - 1s 103us/step - loss: 0.3497 - acc: 0.8592\n",
      "Epoch 32/100\n",
      "8000/8000 [==============================] - 1s 102us/step - loss: 0.3499 - acc: 0.8574\n",
      "Epoch 33/100\n",
      "8000/8000 [==============================] - 1s 103us/step - loss: 0.3501 - acc: 0.8571\n",
      "Epoch 34/100\n",
      "8000/8000 [==============================] - 1s 102us/step - loss: 0.3490 - acc: 0.8592\n",
      "Epoch 35/100\n",
      "8000/8000 [==============================] - 1s 102us/step - loss: 0.3485 - acc: 0.8584\n",
      "Epoch 36/100\n",
      "8000/8000 [==============================] - 1s 102us/step - loss: 0.3482 - acc: 0.8591\n",
      "Epoch 37/100\n",
      "8000/8000 [==============================] - 1s 101us/step - loss: 0.3481 - acc: 0.8576\n",
      "Epoch 38/100\n",
      "8000/8000 [==============================] - 1s 102us/step - loss: 0.3469 - acc: 0.8589\n",
      "Epoch 39/100\n",
      "8000/8000 [==============================] - 1s 102us/step - loss: 0.3488 - acc: 0.8589\n",
      "Epoch 40/100\n",
      "8000/8000 [==============================] - 1s 103us/step - loss: 0.3475 - acc: 0.8582\n",
      "Epoch 41/100\n",
      "8000/8000 [==============================] - 1s 103us/step - loss: 0.3475 - acc: 0.8586\n",
      "Epoch 42/100\n",
      "8000/8000 [==============================] - 1s 102us/step - loss: 0.3474 - acc: 0.8571\n",
      "Epoch 43/100\n",
      "8000/8000 [==============================] - 1s 102us/step - loss: 0.3467 - acc: 0.8587\n",
      "Epoch 44/100\n",
      "8000/8000 [==============================] - 1s 102us/step - loss: 0.3458 - acc: 0.8605\n",
      "Epoch 45/100\n",
      "8000/8000 [==============================] - 1s 102us/step - loss: 0.3472 - acc: 0.8604\n",
      "Epoch 46/100\n",
      "8000/8000 [==============================] - 1s 102us/step - loss: 0.3466 - acc: 0.8586\n",
      "Epoch 47/100\n",
      "8000/8000 [==============================] - 1s 103us/step - loss: 0.3463 - acc: 0.8584\n",
      "Epoch 48/100\n",
      "8000/8000 [==============================] - 1s 102us/step - loss: 0.3464 - acc: 0.8621\n",
      "Epoch 49/100\n",
      "8000/8000 [==============================] - 1s 102us/step - loss: 0.3459 - acc: 0.8594\n",
      "Epoch 50/100\n",
      "8000/8000 [==============================] - 1s 103us/step - loss: 0.3457 - acc: 0.8604\n",
      "Epoch 51/100\n",
      "8000/8000 [==============================] - 1s 102us/step - loss: 0.3465 - acc: 0.8582\n",
      "Epoch 52/100\n",
      "8000/8000 [==============================] - 1s 102us/step - loss: 0.3461 - acc: 0.8584\n",
      "Epoch 53/100\n",
      "8000/8000 [==============================] - 1s 102us/step - loss: 0.3458 - acc: 0.8595\n",
      "Epoch 54/100\n",
      "8000/8000 [==============================] - 1s 111us/step - loss: 0.3452 - acc: 0.8595\n",
      "Epoch 55/100\n",
      "8000/8000 [==============================] - 1s 114us/step - loss: 0.3457 - acc: 0.8630\n",
      "Epoch 56/100\n",
      "8000/8000 [==============================] - 1s 109us/step - loss: 0.3456 - acc: 0.8592\n",
      "Epoch 57/100\n",
      "8000/8000 [==============================] - 1s 106us/step - loss: 0.3457 - acc: 0.8560\n",
      "Epoch 58/100\n",
      "8000/8000 [==============================] - 1s 108us/step - loss: 0.3456 - acc: 0.8580\n",
      "Epoch 59/100\n",
      "8000/8000 [==============================] - 1s 108us/step - loss: 0.3454 - acc: 0.8602\n",
      "Epoch 60/100\n",
      "8000/8000 [==============================] - 1s 103us/step - loss: 0.3446 - acc: 0.8599\n",
      "Epoch 61/100\n",
      "8000/8000 [==============================] - 1s 105us/step - loss: 0.3453 - acc: 0.8565\n",
      "Epoch 62/100\n",
      "8000/8000 [==============================] - 1s 106us/step - loss: 0.3454 - acc: 0.8610\n",
      "Epoch 63/100\n",
      "8000/8000 [==============================] - 1s 102us/step - loss: 0.3452 - acc: 0.8582\n",
      "Epoch 64/100\n",
      "8000/8000 [==============================] - 1s 102us/step - loss: 0.3450 - acc: 0.8595\n",
      "Epoch 65/100\n",
      "8000/8000 [==============================] - 1s 106us/step - loss: 0.3446 - acc: 0.8584\n",
      "Epoch 66/100\n",
      "8000/8000 [==============================] - 1s 106us/step - loss: 0.3438 - acc: 0.8607\n",
      "Epoch 67/100\n",
      "8000/8000 [==============================] - 1s 102us/step - loss: 0.3450 - acc: 0.8587\n",
      "Epoch 68/100\n",
      "8000/8000 [==============================] - 1s 101us/step - loss: 0.3442 - acc: 0.8622\n",
      "Epoch 69/100\n",
      "8000/8000 [==============================] - 1s 102us/step - loss: 0.3449 - acc: 0.8605\n",
      "Epoch 70/100\n",
      "8000/8000 [==============================] - 1s 101us/step - loss: 0.3453 - acc: 0.8602\n",
      "Epoch 71/100\n",
      "8000/8000 [==============================] - 1s 106us/step - loss: 0.3445 - acc: 0.8609\n",
      "Epoch 72/100\n",
      "8000/8000 [==============================] - 1s 108us/step - loss: 0.3443 - acc: 0.8589\n",
      "Epoch 73/100\n",
      "8000/8000 [==============================] - 1s 101us/step - loss: 0.3443 - acc: 0.8614\n",
      "Epoch 74/100\n",
      "8000/8000 [==============================] - 1s 102us/step - loss: 0.3452 - acc: 0.8600\n",
      "Epoch 75/100\n",
      "8000/8000 [==============================] - 1s 102us/step - loss: 0.3438 - acc: 0.8594\n",
      "Epoch 76/100\n",
      "8000/8000 [==============================] - 1s 102us/step - loss: 0.3442 - acc: 0.8595\n",
      "Epoch 77/100\n",
      "8000/8000 [==============================] - 1s 101us/step - loss: 0.3443 - acc: 0.8604\n",
      "Epoch 78/100\n",
      "8000/8000 [==============================] - 1s 100us/step - loss: 0.3440 - acc: 0.8627\n",
      "Epoch 79/100\n",
      "8000/8000 [==============================] - 1s 105us/step - loss: 0.3438 - acc: 0.8591\n",
      "Epoch 80/100\n",
      "8000/8000 [==============================] - 1s 101us/step - loss: 0.3440 - acc: 0.8590\n",
      "Epoch 81/100\n",
      "8000/8000 [==============================] - 1s 101us/step - loss: 0.3441 - acc: 0.8602\n",
      "Epoch 82/100\n"
     ]
    },
    {
     "name": "stdout",
     "output_type": "stream",
     "text": [
      "8000/8000 [==============================] - 1s 102us/step - loss: 0.3443 - acc: 0.8601\n",
      "Epoch 83/100\n",
      "8000/8000 [==============================] - 1s 107us/step - loss: 0.3445 - acc: 0.8606\n",
      "Epoch 84/100\n",
      "8000/8000 [==============================] - 1s 106us/step - loss: 0.3438 - acc: 0.8604\n",
      "Epoch 85/100\n",
      "8000/8000 [==============================] - 1s 112us/step - loss: 0.3440 - acc: 0.8590\n",
      "Epoch 86/100\n",
      "8000/8000 [==============================] - 1s 111us/step - loss: 0.3443 - acc: 0.8590\n",
      "Epoch 87/100\n",
      "8000/8000 [==============================] - 1s 104us/step - loss: 0.3437 - acc: 0.8607\n",
      "Epoch 88/100\n",
      "8000/8000 [==============================] - 1s 111us/step - loss: 0.3439 - acc: 0.8611\n",
      "Epoch 89/100\n",
      "8000/8000 [==============================] - 1s 113us/step - loss: 0.3433 - acc: 0.8619\n",
      "Epoch 90/100\n",
      "8000/8000 [==============================] - 1s 110us/step - loss: 0.3431 - acc: 0.8605\n",
      "Epoch 91/100\n",
      "8000/8000 [==============================] - 1s 114us/step - loss: 0.3442 - acc: 0.8607\n",
      "Epoch 92/100\n",
      "8000/8000 [==============================] - 1s 102us/step - loss: 0.3441 - acc: 0.8604\n",
      "Epoch 93/100\n",
      "8000/8000 [==============================] - 1s 107us/step - loss: 0.3435 - acc: 0.8632\n",
      "Epoch 94/100\n",
      "8000/8000 [==============================] - 1s 113us/step - loss: 0.3430 - acc: 0.8606\n",
      "Epoch 95/100\n",
      "8000/8000 [==============================] - 1s 106us/step - loss: 0.3433 - acc: 0.8617\n",
      "Epoch 96/100\n",
      "8000/8000 [==============================] - 1s 106us/step - loss: 0.3432 - acc: 0.8601\n",
      "Epoch 97/100\n",
      "8000/8000 [==============================] - 1s 109us/step - loss: 0.3429 - acc: 0.8599\n",
      "Epoch 98/100\n",
      "8000/8000 [==============================] - 1s 105us/step - loss: 0.3438 - acc: 0.8611\n",
      "Epoch 99/100\n",
      "8000/8000 [==============================] - 1s 111us/step - loss: 0.3424 - acc: 0.8604\n",
      "Epoch 100/100\n",
      "8000/8000 [==============================] - 1s 116us/step - loss: 0.3431 - acc: 0.8600\n"
     ]
    },
    {
     "data": {
      "text/plain": [
       "<keras.callbacks.History at 0x20500943198>"
      ]
     },
     "execution_count": 23,
     "metadata": {},
     "output_type": "execute_result"
    }
   ],
   "source": [
    "classifier.fit(X_train, y_train, batch_size = 10, nb_epoch = 100)"
   ]
  },
  {
   "cell_type": "code",
   "execution_count": 24,
   "metadata": {},
   "outputs": [],
   "source": [
    "# Predicting the Test set results"
   ]
  },
  {
   "cell_type": "code",
   "execution_count": 25,
   "metadata": {},
   "outputs": [],
   "source": [
    "y_pred = classifier.predict(X_test)\n",
    "y_pred = (y_pred > 0.5)"
   ]
  },
  {
   "cell_type": "code",
   "execution_count": 26,
   "metadata": {},
   "outputs": [
    {
     "name": "stdout",
     "output_type": "stream",
     "text": [
      "[[False]\n",
      " [False]\n",
      " [False]\n",
      " ...\n",
      " [False]\n",
      " [False]\n",
      " [False]]\n"
     ]
    }
   ],
   "source": [
    "print(y_pred)"
   ]
  },
  {
   "cell_type": "code",
   "execution_count": 27,
   "metadata": {},
   "outputs": [],
   "source": [
    "# Making the Confusion Matrix"
   ]
  },
  {
   "cell_type": "code",
   "execution_count": 28,
   "metadata": {},
   "outputs": [],
   "source": [
    "from sklearn.metrics import confusion_matrix\n",
    "cm = confusion_matrix(y_test, y_pred)"
   ]
  },
  {
   "cell_type": "code",
   "execution_count": 29,
   "metadata": {},
   "outputs": [
    {
     "data": {
      "text/plain": [
       "array([[1532,   63],\n",
       "       [ 211,  194]], dtype=int64)"
      ]
     },
     "execution_count": 29,
     "metadata": {},
     "output_type": "execute_result"
    }
   ],
   "source": [
    "cm"
   ]
  },
  {
   "cell_type": "code",
   "execution_count": 30,
   "metadata": {},
   "outputs": [],
   "source": [
    "#correct predicitons=1513 +205 total predictoins in test= 200 "
   ]
  },
  {
   "cell_type": "code",
   "execution_count": 31,
   "metadata": {},
   "outputs": [],
   "source": [
    "#therefore accuracy= 85%"
   ]
  },
  {
   "cell_type": "code",
   "execution_count": null,
   "metadata": {},
   "outputs": [],
   "source": []
  }
 ],
 "metadata": {
  "kernelspec": {
   "display_name": "Python 3",
   "language": "python",
   "name": "python3"
  },
  "language_info": {
   "codemirror_mode": {
    "name": "ipython",
    "version": 3
   },
   "file_extension": ".py",
   "mimetype": "text/x-python",
   "name": "python",
   "nbconvert_exporter": "python",
   "pygments_lexer": "ipython3",
   "version": "3.6.5"
  }
 },
 "nbformat": 4,
 "nbformat_minor": 2
}
